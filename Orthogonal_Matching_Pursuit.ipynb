{
  "nbformat": 4,
  "nbformat_minor": 0,
  "metadata": {
    "colab": {
      "name": "Orthogonal Matching Pursuit",
      "provenance": [],
      "authorship_tag": "ABX9TyNVHBaU1QDqVclkwzBZzOE8",
      "include_colab_link": true
    },
    "kernelspec": {
      "name": "python3",
      "display_name": "Python 3"
    }
  },
  "cells": [
    {
      "cell_type": "markdown",
      "metadata": {
        "id": "view-in-github",
        "colab_type": "text"
      },
      "source": [
        "<a href=\"https://colab.research.google.com/github/VadimUrupa1399/ML-with-Python/blob/master/Orthogonal_Matching_Pursuit.ipynb\" target=\"_parent\"><img src=\"https://colab.research.google.com/assets/colab-badge.svg\" alt=\"Open In Colab\"/></a>"
      ]
    },
    {
      "cell_type": "code",
      "metadata": {
        "id": "B4YFAJNfCng0"
      },
      "source": [
        "import matplotlib.pyplot as plt\n",
        "import numpy as np\n",
        "from sklearn.linear_model import OrthogonalMatchingPursuit\n",
        "from sklearn.linear_model import OrthogonalMatchingPursuitCV\n",
        "from sklearn.datasets import make_sparse_coded_signal"
      ],
      "execution_count": 2,
      "outputs": []
    },
    {
      "cell_type": "code",
      "metadata": {
        "id": "fKBWoT-Wd0jW"
      },
      "source": [
        "n_components, n_features = 512, 100\n",
        "n_nonzero_coefs = 17"
      ],
      "execution_count": 3,
      "outputs": []
    },
    {
      "cell_type": "code",
      "metadata": {
        "id": "5L670u0zeAmG"
      },
      "source": [
        "y, X, w = make_sparse_coded_signal(n_samples=1,\n",
        "                                   n_components=n_components,\n",
        "                                   n_features=n_features,\n",
        "                                   n_nonzero_coefs=n_nonzero_coefs,\n",
        "                                   random_state=0)\n",
        "idx, = w.nonzero()"
      ],
      "execution_count": 5,
      "outputs": []
    },
    {
      "cell_type": "code",
      "metadata": {
        "id": "7uL5R40aea2E"
      },
      "source": [
        "y_noisy = y +0.05 * np.random.rand(len(y))"
      ],
      "execution_count": 6,
      "outputs": []
    },
    {
      "cell_type": "code",
      "metadata": {
        "colab": {
          "base_uri": "https://localhost:8080/",
          "height": 147
        },
        "id": "CWT6mIpvenWl",
        "outputId": "28dbebc9-7e1c-4187-8c05-e58c58ba23d4"
      },
      "source": [
        "plt.figure(figsize=(7,7))\n",
        "plt.subplot(4,1,1)\n",
        "plt.xlim(0, 512)\n",
        "plt.title('Sparse signal')\n",
        "plt.stem(idx, w[idx], use_line_collection=True)\n",
        "plt.show()"
      ],
      "execution_count": 8,
      "outputs": [
        {
          "output_type": "display_data",
          "data": {
            "image/png": "[encoded data removed]",
            "text/plain": [
              "<Figure size 504x504 with 1 Axes>"
            ]
          },
          "metadata": {
            "tags": [],
            "needs_background": "light"
          }
        }
      ]
    },
    {
      "cell_type": "code",
      "metadata": {
        "colab": {
          "base_uri": "https://localhost:8080/",
          "height": 111
        },
        "id": "twn_vnvxfsgj",
        "outputId": "74f93c31-cbf9-48b9-a23d-a0f0a8a87f77"
      },
      "source": [
        "#plot the noisy reconstruction\n",
        "omp.fit(X, y_noisy)\n",
        "coef = omp.coef_\n",
        "idx_r, =coef.nonzero()\n",
        "plt.subplot(4,1,3)\n",
        "plt.xlim(0,512)\n",
        "plt.title('Recovered signal from noisy measurements')\n",
        "plt.stem(idx_r, coef[idx_r], use_line_collection=True)\n",
        "plt.show()\n"
      ],
      "execution_count": 12,
      "outputs": [
        {
          "output_type": "display_data",
          "data": {
            "image/png": "[encoded data removed]",
            "text/plain": [
              "<Figure size 432x288 with 1 Axes>"
            ]
          },
          "metadata": {
            "tags": [],
            "needs_background": "light"
          }
        }
      ]
    },
    {
      "cell_type": "code",
      "metadata": {
        "colab": {
          "base_uri": "https://localhost:8080/",
          "height": 111
        },
        "id": "uP9iisNle2uY",
        "outputId": "ee2865fe-1b16-4464-fdfd-e93b8e88f138"
      },
      "source": [
        "#plot noise-free reconstruction\n",
        "omp = OrthogonalMatchingPursuit(n_nonzero_coefs=n_nonzero_coefs)\n",
        "omp.fit(X,y)\n",
        "coef = omp.coef_\n",
        "idx_r, = coef.nonzero()\n",
        "plt.subplot(4,1,2)\n",
        "plt.xlim(0, 512)\n",
        "plt.title('Recovered signal from noise-free measuerments')\n",
        "plt.stem(idx_r, coef[idx_r], use_line_collection=True)\n",
        "plt.show()"
      ],
      "execution_count": 10,
      "outputs": [
        {
          "output_type": "display_data",
          "data": {
            "image/png": "[encoded data removed]",
            "text/plain": [
              "<Figure size 432x288 with 1 Axes>"
            ]
          },
          "metadata": {
            "tags": [],
            "needs_background": "light"
          }
        }
      ]
    },
    {
      "cell_type": "code",
      "metadata": {
        "colab": {
          "base_uri": "https://localhost:8080/",
          "height": 319
        },
        "id": "Zt8-XUREhZaY",
        "outputId": "a3b53db3-1d1d-4fac-d016-2c5f95b74a15"
      },
      "source": [
        "omp_cv = OrthogonalMatchingPursuitCV()\n",
        "omp_cv.fit(X, y_noisy)\n",
        "coef = omp_cv.coef_\n",
        "idx_r, = coef.nonzero()\n",
        "plt.subplot(4,1,4)\n",
        "plt.xlim(0, 512)\n",
        "plt.title(\"recovered signsl from noisy measurements with CV\")\n",
        "plt.stem(idx_r, coef[idx_r], use_line_collection=True)\n",
        "plt.subplots_adjust(0.06, 0.04, 0.94, 0.90, 0.20, 0.38)\n",
        "plt.suptitle('Sparse signal recovery with Orthogonal Matching Pursuit', fontsize=16)\n",
        "plt.show()"
      ],
      "execution_count": 18,
      "outputs": [
        {
          "output_type": "display_data",
          "data": {
            "image/png": "[encoded data removed]",
            "text/plain": [
              "<Figure size 432x288 with 1 Axes>"
            ]
          },
          "metadata": {
            "tags": [],
            "needs_background": "light"
          }
        }
      ]
    },
    {
      "cell_type": "code",
      "metadata": {
        "id": "PsMMBj4OimSk"
      },
      "source": [
        ""
      ],
      "execution_count": null,
      "outputs": []
    }
  ]
}