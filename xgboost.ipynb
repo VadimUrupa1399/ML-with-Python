{
  "nbformat": 4,
  "nbformat_minor": 0,
  "metadata": {
    "colab": {
      "name": "xgboost.ipynb",
      "provenance": [],
      "authorship_tag": "ABX9TyMcjK2yhuoeW8d7We1g5Hyb",
      "include_colab_link": true
    },
    "kernelspec": {
      "name": "python3",
      "display_name": "Python 3"
    }
  },
  "cells": [
    {
      "cell_type": "markdown",
      "metadata": {
        "id": "view-in-github",
        "colab_type": "text"
      },
      "source": [
        "<a href=\"https://colab.research.google.com/github/VadimUrupa1399/ML-with-Python/blob/master/xgboost.ipynb\" target=\"_parent\"><img src=\"https://colab.research.google.com/assets/colab-badge.svg\" alt=\"Open In Colab\"/></a>"
      ]
    },
    {
      "cell_type": "code",
      "metadata": {
        "id": "YTA1qVFsWKB-"
      },
      "source": [
        "#Using XGBoost regression for example of supervised ML "
      ],
      "execution_count": null,
      "outputs": []
    },
    {
      "cell_type": "markdown",
      "metadata": {
        "id": "Q7JQoLZTamJL"
      },
      "source": [
        ""
      ]
    },
    {
      "cell_type": "code",
      "metadata": {
        "id": "l4Fek-DpWXnA"
      },
      "source": [
        "# import nessesary libraries and dataset\n",
        "import xgboost as xgb\n",
        "from sklearn.datasets import load_boston\n",
        "from sklearn.model_selection import train_test_split\n",
        "from sklearn.model_selection import cross_val_score, KFold\n",
        "from sklearn.metrics import mean_squared_error\n",
        "import matplotlib.pyplot as plt"
      ],
      "execution_count": 1,
      "outputs": []
    },
    {
      "cell_type": "code",
      "metadata": {
        "id": "kMe55eF8XEsz"
      },
      "source": [
        "# I'm using Boston house-price dataset for regression model\n",
        "boston = load_boston()\n",
        "x, y = boston.data, boston.target\n",
        "xtrain, xtest, ytrain, ytest = train_test_split(x, y, test_size=0.15)\n",
        "\n"
      ],
      "execution_count": 2,
      "outputs": []
    },
    {
      "cell_type": "code",
      "metadata": {
        "colab": {
          "base_uri": "https://localhost:8080/"
        },
        "id": "SaQgHAhdXyVa",
        "outputId": "56459ad2-e229-46b7-bb1c-593a41f2faa9"
      },
      "source": [
        "#Define and fit the model\n",
        "xgbr = xgb.XGBRegressor(verbosity=0)\n",
        "print(xgbr)"
      ],
      "execution_count": 3,
      "outputs": [
        {
          "output_type": "stream",
          "text": [
            "XGBRegressor(base_score=0.5, booster='gbtree', colsample_bylevel=1,\n",
            "             colsample_bynode=1, colsample_bytree=1, gamma=0,\n",
            "             importance_type='gain', learning_rate=0.1, max_delta_step=0,\n",
            "             max_depth=3, min_child_weight=1, missing=None, n_estimators=100,\n",
            "             n_jobs=1, nthread=None, objective='reg:linear', random_state=0,\n",
            "             reg_alpha=0, reg_lambda=1, scale_pos_weight=1, seed=None,\n",
            "             silent=None, subsample=1, verbosity=0)\n"
          ],
          "name": "stdout"
        }
      ]
    },
    {
      "cell_type": "code",
      "metadata": {
        "colab": {
          "base_uri": "https://localhost:8080/"
        },
        "id": "4CtkEShoYRwC",
        "outputId": "4de57404-7648-4a5a-aabe-5d4bbc0d9198"
      },
      "source": [
        "xgbr.fit(xtrain, ytrain)"
      ],
      "execution_count": 5,
      "outputs": [
        {
          "output_type": "execute_result",
          "data": {
            "text/plain": [
              "XGBRegressor(base_score=0.5, booster='gbtree', colsample_bylevel=1,\n",
              "             colsample_bynode=1, colsample_bytree=1, gamma=0,\n",
              "             importance_type='gain', learning_rate=0.1, max_delta_step=0,\n",
              "             max_depth=3, min_child_weight=1, missing=None, n_estimators=100,\n",
              "             n_jobs=1, nthread=None, objective='reg:linear', random_state=0,\n",
              "             reg_alpha=0, reg_lambda=1, scale_pos_weight=1, seed=None,\n",
              "             silent=None, subsample=1, verbosity=0)"
            ]
          },
          "metadata": {
            "tags": []
          },
          "execution_count": 5
        }
      ]
    },
    {
      "cell_type": "code",
      "metadata": {
        "colab": {
          "base_uri": "https://localhost:8080/"
        },
        "id": "D1tHIAysYAU1",
        "outputId": "16e4249d-2654-49a0-92c4-999bd2ad4492"
      },
      "source": [
        "#check the model training score\n",
        "score = xgbr.score(xtrain, ytrain)\n",
        "print('Training score: ', score)"
      ],
      "execution_count": 6,
      "outputs": [
        {
          "output_type": "stream",
          "text": [
            "Training score:  0.9746232457618178\n"
          ],
          "name": "stdout"
        }
      ]
    },
    {
      "cell_type": "code",
      "metadata": {
        "colab": {
          "base_uri": "https://localhost:8080/"
        },
        "id": "kbQkYozJYZu4",
        "outputId": "fea518f5-c681-4e92-98a1-941a368810a9"
      },
      "source": [
        "#applying cross validation method\n",
        "scores = cross_val_score(xgbr, xtrain, ytrain, cv=10)\n",
        "print('Mean cross_val score: ', scores.mean())"
      ],
      "execution_count": 7,
      "outputs": [
        {
          "output_type": "stream",
          "text": [
            "Mean cross_val score:  0.8885664224624235\n"
          ],
          "name": "stdout"
        }
      ]
    },
    {
      "cell_type": "code",
      "metadata": {
        "colab": {
          "base_uri": "https://localhost:8080/"
        },
        "id": "y6ucoRYlYvjr",
        "outputId": "545e2ce3-4643-42f5-d03d-14d567d93627"
      },
      "source": [
        "#We can also use KFold method in cross_validation\n",
        "kfold = KFold(n_splits=10, shuffle=True)\n",
        "kf_cv_scores = cross_val_score(xgbr, xtrain, ytrain, cv=kfold)\n",
        "print('Kfold CV average score: ', kf_cv_scores.mean())"
      ],
      "execution_count": 9,
      "outputs": [
        {
          "output_type": "stream",
          "text": [
            "Kfold CV average score:  0.8781942836196567\n"
          ],
          "name": "stdout"
        }
      ]
    },
    {
      "cell_type": "code",
      "metadata": {
        "id": "BoiyAzYWZNKz"
      },
      "source": [
        "#Both methods show the accuracy about 87%"
      ],
      "execution_count": null,
      "outputs": []
    },
    {
      "cell_type": "code",
      "metadata": {
        "colab": {
          "base_uri": "https://localhost:8080/"
        },
        "id": "o-n7T6u5ZZol",
        "outputId": "3357e17a-afd8-4728-cd26-888a369b43ff"
      },
      "source": [
        "#Now, we predict the test data\n",
        "ypred = xgbr.predict(xtest)\n",
        "mse = mean_squared_error(ytest, ypred)\n",
        "print('MSE: ', mse)"
      ],
      "execution_count": 10,
      "outputs": [
        {
          "output_type": "stream",
          "text": [
            "MSE:  8.59100197224983\n"
          ],
          "name": "stdout"
        }
      ]
    },
    {
      "cell_type": "code",
      "metadata": {
        "colab": {
          "base_uri": "https://localhost:8080/"
        },
        "id": "TWck_NMlZz1w",
        "outputId": "51b6b923-9b78-446a-e92d-81037d58cb6c"
      },
      "source": [
        "print('RMSE:', (mse**1/2.0))"
      ],
      "execution_count": 11,
      "outputs": [
        {
          "output_type": "stream",
          "text": [
            "RMSE: 4.295500986124915\n"
          ],
          "name": "stdout"
        }
      ]
    },
    {
      "cell_type": "code",
      "metadata": {
        "colab": {
          "base_uri": "https://localhost:8080/",
          "height": 281
        },
        "id": "LNXiP_xAZ7fU",
        "outputId": "acb665bc-fe11-448f-d292-2122bc2bf554"
      },
      "source": [
        "#Now, let's visualize the orginal and predicted data\n",
        "x_ax = range(len(xtest))\n",
        "plt.plot(x_ax, ytest, label='Original')\n",
        "plt.plot(x_ax, ypred, label='Predicted')\n",
        "plt.title('Boston test and predicted data')\n",
        "plt.legend()\n",
        "plt.show()"
      ],
      "execution_count": 12,
      "outputs": [
        {
          "output_type": "display_data",
          "data": {
            "image/png": "[encoded data removed]",
            "text/plain": [
              "<Figure size 432x288 with 1 Axes>"
            ]
          },
          "metadata": {
            "tags": [],
            "needs_background": "light"
          }
        }
      ]
    },
    {
      "cell_type": "code",
      "metadata": {
        "id": "Q3KNSA-xadtn"
      },
      "source": [
        ""
      ],
      "execution_count": null,
      "outputs": []
    }
  ]
}